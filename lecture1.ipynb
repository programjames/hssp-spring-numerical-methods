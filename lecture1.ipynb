{
 "cells": [
  {
   "cell_type": "markdown",
   "id": "709f01c5-2bc4-4873-9e20-953a13f06d32",
   "metadata": {},
   "source": [
    "# Lecture 1\n",
    "## By James Camacho\n",
    "\n",
    "Covering:\n",
    "- The derivative + trig basics,\n",
    "- Fixed point iteration,\n",
    "- Newton's method,\n",
    "- Euler & Runge-Kutta methods.\n"
   ]
  },
  {
   "cell_type": "code",
   "execution_count": 2,
   "id": "78b06631-af36-4c6b-a1dc-24b0a977ff01",
   "metadata": {},
   "outputs": [],
   "source": [
    "# Imports\n",
    "import numpy as np\n",
    "import sympy as sp\n",
    "\n",
    "%matplotlib inline\n",
    "import matplotlib.pyplot as plt"
   ]
  },
  {
   "cell_type": "code",
   "execution_count": 4,
   "id": "293d3e61-d71a-40ef-ac6c-d1febc317191",
   "metadata": {},
   "outputs": [
    {
     "name": "stdout",
     "output_type": "stream",
     "text": [
      "For base 2:\n",
      "dx = 1 => (2^dx - 1) / dx = 1.0\n",
      "dx = 0.1 => (2^dx - 1) / dx = 0.7177346253629313\n",
      "dx = 0.01 => (2^dx - 1) / dx = 0.6955550056718884\n",
      "dx = 0.001 => (2^dx - 1) / dx = 0.6933874625807412\n",
      "\n",
      "For base 3:\n",
      "dx = 1 => (3^dx - 1) / dx = 2.0\n",
      "dx = 0.1 => (3^dx - 1) / dx = 1.1612317403390437\n",
      "dx = 0.01 => (3^dx - 1) / dx = 1.104669193785357\n",
      "dx = 0.001 => (3^dx - 1) / dx = 1.0992159842040383\n"
     ]
    }
   ],
   "source": [
    "# Approximate derivative of 2^x:\n",
    "\n",
    "print(\"For base 2:\")\n",
    "for dx in [1, 0.1, 0.01, 0.001]:\n",
    "    print(f\"dx = {dx} => (2^dx - 1) / dx = {(2**dx - 1) / dx}\")\n",
    "    \n",
    "print(\"\\nFor base 3:\")\n",
    "for dx in [1, 0.1, 0.01, 0.001]:\n",
    "    print(f\"dx = {dx} => (3^dx - 1) / dx = {(3**dx - 1) / dx}\")"
   ]
  },
  {
   "cell_type": "code",
   "execution_count": 12,
   "id": "17ec0869-76af-4d87-bb55-bef95b987d7a",
   "metadata": {},
   "outputs": [
    {
     "name": "stdout",
     "output_type": "stream",
     "text": [
      "Calculating e = lim_(n → ∞) (1 + 1/n)^n:\n",
      "For n = 10, (1 + 1/n)^n = 2.5937424601000023\n",
      "For n = 100, (1 + 1/n)^n = 2.7048138294215285\n",
      "For n = 1000, (1 + 1/n)^n = 2.7169239322355936\n",
      "For n = 10000, (1 + 1/n)^n = 2.7181459268249255\n",
      "\n",
      "Calculating e = 1/0! + 1/1! + 1/2! + ...\n",
      "e = 2.7183\n"
     ]
    }
   ],
   "source": [
    "# Calculating e:\n",
    "\n",
    "print(\"Calculating e = lim_(n → ∞) (1 + 1/n)^n:\")\n",
    "for n in [10, 100, 1000, 10000]:\n",
    "    print(f\"For n = {n}, (1 + 1/n)^n = {(1+1/n)**n}\")\n",
    "\n",
    "print(\"\\nCalculating e = 1/0! + 1/1! + 1/2! + ...\")\n",
    "e = 0\n",
    "factorial = 1\n",
    "for i in range(1, 100):\n",
    "    e += 1 / factorial\n",
    "    factorial *= i\n",
    "print(f\"e = {e:.4f}\")"
   ]
  },
  {
   "cell_type": "code",
   "execution_count": 19,
   "id": "930749db-550d-4286-b0de-5fb5cde0db69",
   "metadata": {},
   "outputs": [
    {
     "name": "stdout",
     "output_type": "stream",
     "text": [
      "Fixed point of cos is 0.7391.\n",
      "Fixed point of (7x^3 - 3x^2 - 2)^(1/5) = 2.362\n"
     ]
    }
   ],
   "source": [
    "# Fixed point iteration for cos.\n",
    "from math import cos\n",
    "\n",
    "x = 1\n",
    "while x != cos(x):\n",
    "    x = cos(x)\n",
    "print(f\"Fixed point of cos is {x:.4f}.\")\n",
    "\n",
    "x = 1\n",
    "def f(x):\n",
    "    return (7 * x**3 - 3 * x**2 - 2) ** 0.2\n",
    "\n",
    "while x != f(x):\n",
    "    x = f(x)\n",
    "print(f\"Fixed point of (7x^3 - 3x^2 - 2)^(1/5) = {x:.3f}\")"
   ]
  },
  {
   "cell_type": "code",
   "execution_count": null,
   "id": "d65a4245-9081-4ae5-b1ae-31f87cd5db94",
   "metadata": {},
   "outputs": [],
   "source": []
  }
 ],
 "metadata": {
  "kernelspec": {
   "display_name": "Python 3 (ipykernel)",
   "language": "python",
   "name": "python3"
  },
  "language_info": {
   "codemirror_mode": {
    "name": "ipython",
    "version": 3
   },
   "file_extension": ".py",
   "mimetype": "text/x-python",
   "name": "python",
   "nbconvert_exporter": "python",
   "pygments_lexer": "ipython3",
   "version": "3.10.4"
  }
 },
 "nbformat": 4,
 "nbformat_minor": 5
}
