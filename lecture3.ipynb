{
 "cells": [
  {
   "cell_type": "markdown",
   "id": "0a017f84",
   "metadata": {},
   "source": [
    "# Lecture 3\n",
    "## Linear Algebra\n",
    "\n",
    "-----\n",
    "\n",
    "Covering:\n",
    "\n",
    "- Linear differential equations,\n",
    "- Matrix fundamentals,\n",
    "- The QR Algorithm,\n",
    "- Newton-like methods,\n",
    "- Stiffness.\n",
    "\n",
    "# Fundamentals"
   ]
  },
  {
   "cell_type": "code",
   "execution_count": 1,
   "id": "6cc1f8be",
   "metadata": {},
   "outputs": [
    {
     "name": "stdout",
     "output_type": "stream",
     "text": [
      "[x, y, z] =  [1. 2. 3.]\n"
     ]
    }
   ],
   "source": [
    "import numpy as np\n",
    "import scipy.linalg\n",
    "np.random.seed(1)\n",
    "\n",
    "\"\"\"\n",
    "Equation:\n",
    "    3x + 6y + 5z = 30\n",
    "    4x - 2y + 1z =  3\n",
    "    2x + 4y - 3z =  1\n",
    "    \n",
    "    [3  6  5][x]   [30]\n",
    "    [4 -2  1][y] = [ 3]\n",
    "    [2  4 -3][z]   [ 1]\n",
    "       ↑      ↑     ↑\n",
    "       A      x  =  b\n",
    "\"\"\"\n",
    "\n",
    "A = [[3,  6,  5],\n",
    "     [4, -2,  1],\n",
    "     [2,  4, -3]]\n",
    "\n",
    "b = [30, 3, 1]\n",
    "\n",
    "print(\"[x, y, z] = \", np.linalg.solve(A, b))\n"
   ]
  },
  {
   "cell_type": "markdown",
   "id": "4b3fab63",
   "metadata": {},
   "source": [
    "## Gauss elimination (row reduction)"
   ]
  },
  {
   "cell_type": "code",
   "execution_count": 2,
   "id": "1e889867",
   "metadata": {},
   "outputs": [
    {
     "name": "stdout",
     "output_type": "stream",
     "text": [
      "[[  4.          -2.           1.           3.        ]\n",
      " [  0.           7.5          4.25        27.75      ]\n",
      " [  0.           0.          -6.33333333 -19.        ]]\n"
     ]
    }
   ],
   "source": [
    "combined = np.c_[A, b]\n",
    "print(scipy.linalg.lu(combined)[-1])"
   ]
  },
  {
   "cell_type": "markdown",
   "id": "4593e9e1",
   "metadata": {},
   "source": [
    "## Multiplication, Identity, and Inverse\n",
    "\n",
    "Multiplication is **not** commutative. The multiplicative identity $I$ satisfies $A = AI = IA$, it's essentially the number \"1\" but for matrices. The inverse, $A^{-1}$, of $A$ satisfies $AA^{-1} = A^{-1}A = I$. In other words, right/left multiplication by the inverse is like right/left division."
   ]
  },
  {
   "cell_type": "code",
   "execution_count": 3,
   "id": "f927a3ae",
   "metadata": {},
   "outputs": [
    {
     "name": "stdout",
     "output_type": "stream",
     "text": [
      "AB =\n",
      " [[12 17]\n",
      " [26 37]] \n",
      "\n",
      "BA =\n",
      " [[11 16]\n",
      " [26 38]] \n",
      "\n",
      "A⁻¹ =\n",
      " [[-2.   1. ]\n",
      " [ 1.5 -0.5]] \n",
      "\n",
      "A⁻¹A = AA⁻¹ =\n",
      " [[1. 0.]\n",
      " [0. 1.]]\n"
     ]
    }
   ],
   "source": [
    "A = [[1, 2],\n",
    "     [3, 4]]\n",
    "B = [[2, 3],\n",
    "     [5, 7]]\n",
    "\n",
    "A = np.array(A)\n",
    "B = np.array(B)\n",
    "A_inv = np.linalg.inv(A)\n",
    "\n",
    "\n",
    "with np.printoptions(precision=3, suppress=True):\n",
    "    print(\"AB =\\n\", A @ B, \"\\n\")\n",
    "    print(\"BA =\\n\", B @ A, \"\\n\")\n",
    "    print(\"A⁻¹ =\\n\", A_inv, \"\\n\")\n",
    "    print(\"A⁻¹A = AA⁻¹ =\\n\", A_inv @ A)"
   ]
  },
  {
   "cell_type": "markdown",
   "id": "a51f06ed",
   "metadata": {},
   "source": [
    "-----\n",
    "# QR Algorithm\n",
    "\n",
    "Using the finite difference matrix\n",
    "$$A = \\begin{bmatrix}\n",
    "-2&1&0&0&\\cdots&0\\\\\n",
    "1&-2&1&0&\\cdots&0\\\\\n",
    "0&1&-2&1&\\cdots&0\\\\\n",
    "0&0&1&-2&\\cdots&0\\\\\n",
    "\\vdots&\\vdots&\\vdots&\\vdots&\\ddots&\\vdots\\\\\n",
    "0&0&0&0&\\cdots&-2\\\\\n",
    "\\end{bmatrix}$$\n",
    "which encodes the one-dimensional second derivative."
   ]
  },
  {
   "cell_type": "code",
   "execution_count": 9,
   "id": "854de0ff",
   "metadata": {},
   "outputs": [
    {
     "name": "stdout",
     "output_type": "stream",
     "text": [
      "λ = -3.732 -> |A-λI| =  0.000\n",
      "λ = -3.000 -> |A-λI| =  0.000\n",
      "λ = -2.000 -> |A-λI| = -0.000\n",
      "λ = -1.000 -> |A-λI| =  0.000\n",
      "λ = -0.268 -> |A-λI| =  0.000\n"
     ]
    }
   ],
   "source": [
    "n = 5\n",
    "A = np.zeros((n, n))\n",
    "A += np.diag(-2 * np.ones(n))\n",
    "A += np.diag(np.ones(n-1), -1)\n",
    "A += np.diag(np.ones(n-1), 1)\n",
    "\n",
    "def eigenvalues(A):\n",
    "    Q, R = np.linalg.qr(A)\n",
    "    while not np.allclose(A, np.triu(A)):\n",
    "        A = R @ Q\n",
    "        Q, R = np.linalg.qr(A)\n",
    "    return np.diag(A)\n",
    "\n",
    "I = np.identity(n)\n",
    "for eig in eigenvalues(A):\n",
    "    print(f\"λ = {eig:.3f} -> |A-λI| = {np.linalg.det(A-eig*I) : .3f}\")"
   ]
  },
  {
   "cell_type": "code",
   "execution_count": 5,
   "id": "3a3ae029",
   "metadata": {},
   "outputs": [
    {
     "name": "stdout",
     "output_type": "stream",
     "text": [
      "Roots of x^4 - 10x^3 + 35x^2 - 50x + 24:\n",
      "[4. 3. 2. 1.]\n"
     ]
    }
   ],
   "source": [
    "# P(x) = x^4 - 10x^3 + 35x^2 - 50x + 24 = (x-1)(x-2)(x-3)(x-4)\n",
    "\n",
    "P = np.array([-10, 35, -50, 24][::-1])\n",
    "A = np.zeros((len(P), len(P)))\n",
    "A += np.diag(np.ones(len(P)-1), 1)\n",
    "A[-1] = -P\n",
    "\n",
    "print(\"Roots of x^4 - 10x^3 + 35x^2 - 50x + 24:\")\n",
    "with np.printoptions(precision=5):\n",
    "    print(eigenvalues(A))"
   ]
  },
  {
   "cell_type": "markdown",
   "id": "5a02cd07",
   "metadata": {},
   "source": [
    "-----\n",
    "# Jacobian + Newton's Method\n",
    "\n",
    "Finding a root of\n",
    "$$f(x) = \\begin{bmatrix}x^2-y^2\\\\x^2-z^2\\\\ 1 + yz\\end{bmatrix}$$"
   ]
  },
  {
   "cell_type": "code",
   "execution_count": 6,
   "id": "7ff07d95",
   "metadata": {},
   "outputs": [
    {
     "name": "stdout",
     "output_type": "stream",
     "text": [
      "x, y, z = 1, 2, 3 \n",
      "\n",
      "f(x, y, z) =  [-3 -8  7] \n",
      "\n",
      "J(f) (x, y, z) = \n",
      " [[ 2 -4  0]\n",
      " [ 2  0 -6]\n",
      " [ 0  3  2]]\n"
     ]
    }
   ],
   "source": [
    "def f(x, y, z):\n",
    "    return np.array([x**2 - y**2, x**2-z**2, 1 + y*z])\n",
    "\n",
    "def Jacobian(x, y, z):\n",
    "    return np.array([[2*x, -2*y,  0],\n",
    "                     [2*x, 0, -2*z],\n",
    "                     [0, z, y]])\n",
    "\n",
    "x, y, z = 1, 2, 3\n",
    "\n",
    "print(f\"x, y, z = {x}, {y}, {z}\", \"\\n\")\n",
    "print(\"f(x, y, z) = \", f(x, y, z), \"\\n\")\n",
    "print(\"J(f) (x, y, z) = \\n\", Jacobian(x, y, z))"
   ]
  },
  {
   "cell_type": "code",
   "execution_count": 7,
   "id": "e3f80ea2",
   "metadata": {},
   "outputs": [
    {
     "name": "stdout",
     "output_type": "stream",
     "text": [
      "x, y, z =  [-1.  1. -1.]\n"
     ]
    }
   ],
   "source": [
    "def Newton(f, threshold=1e-5):\n",
    "    x, y, z = 1 + np.random.random(3) # Choose random 1 < x, y, z < 2\n",
    "    while np.linalg.norm(f(x, y, z)) > threshold:\n",
    "        J = Jacobian(x, y, z)\n",
    "        dx, dy, dz = np.linalg.solve(J, f(x, y, z))\n",
    "        x -= dx; y -= dy; z -= dz;\n",
    "    return np.array([x, y, z])\n",
    "\n",
    "with np.printoptions(precision=3, suppress=True):\n",
    "    print(\"x, y, z = \", Newton(f))"
   ]
  },
  {
   "cell_type": "markdown",
   "id": "7b7e75ee",
   "metadata": {},
   "source": [
    "### Broyden's Method\n",
    "\n",
    "Approximates the Jacobian using previous iterations:\n",
    "$$J_n\\Delta x_n \\approx \\Delta f_n.$$\n",
    "However, this isn't enough information to compute $J_n$.\n",
    "\n",
    "-----\n",
    "Example:\n",
    "$$f = \\begin{bmatrix}x+y\\\\x-y\\end{bmatrix},$$\n",
    "and $$\\Delta x = \\Delta y = 1\\implies \\Delta f = \\begin{bmatrix}2\\\\0\\end{bmatrix}.$$\n",
    "Both $$\\begin{bmatrix}2&0\\\\0&0\\end{bmatrix},\\text{ and }\\begin{bmatrix}1&1\\\\1&-1\\end{bmatrix}$$\n",
    "could be $J$.\n",
    "\n",
    "-----\n",
    "Use additional condition: For any vector $y$ perpendicular to $\\Delta x_n$, we force $J_ny = J_{n-1}y,$ which means we're only modifying $J$ in directions we have new information on. This gives\n",
    "$$J_n = J_{n-1} + (\\dots)\\Delta x_n^T,$$\n",
    "and plugging back into the first condition yields\n",
    "$$J_n = J_{n-1} + \\frac{\\Delta f_n - J_{n-1}\\Delta x_n}{\\Delta x_n^T \\Delta x_n}\\Delta x_n^T.$$\n",
    "If we instead work with the inverse of the Jacobian, we get\n",
    "$$J_n^{-1} = J_{n-1}^{-1} + \\frac{\\Delta x_n - J_{n-1}^{-1}\\Delta f_n}{\\Delta f_n^T \\Delta f_n}\\Delta f_n^T.$$"
   ]
  },
  {
   "cell_type": "code",
   "execution_count": 8,
   "id": "453dd8be",
   "metadata": {},
   "outputs": [
    {
     "name": "stdout",
     "output_type": "stream",
     "text": [
      "x, y, z =  [ 1.  1. -1.]\n"
     ]
    }
   ],
   "source": [
    "def Broyden(f, threshold=1e-5):\n",
    "    x, y, z = np.ones(3)\n",
    "    J_inv = np.identity(3)\n",
    "    \n",
    "    f_curr = f(x, y, z)\n",
    "    while np.linalg.norm(f(x, y, z)) > threshold:\n",
    "        delta = -J_inv @ f_curr\n",
    "        dx, dy, dz = delta\n",
    "        x += dx; y += dy; z += dz;\n",
    "        \n",
    "        f_prev, f_curr = f_curr, f(x, y, z)\n",
    "        df = f_curr - f_prev\n",
    "        J_inv += np.outer((delta - J_inv @ df) / (df @ df), df)\n",
    "        \n",
    "    return np.array([x, y, z])\n",
    "\n",
    "with np.printoptions(precision=3, suppress=True):\n",
    "    print(\"x, y, z = \", Broyden(f))"
   ]
  },
  {
   "cell_type": "code",
   "execution_count": null,
   "id": "a3e37fa0",
   "metadata": {},
   "outputs": [],
   "source": []
  }
 ],
 "metadata": {
  "kernelspec": {
   "display_name": "Python 3 (ipykernel)",
   "language": "python",
   "name": "python3"
  },
  "language_info": {
   "codemirror_mode": {
    "name": "ipython",
    "version": 3
   },
   "file_extension": ".py",
   "mimetype": "text/x-python",
   "name": "python",
   "nbconvert_exporter": "python",
   "pygments_lexer": "ipython3",
   "version": "3.10.6"
  }
 },
 "nbformat": 4,
 "nbformat_minor": 5
}
