{
 "cells": [
  {
   "cell_type": "markdown",
   "id": "0a017f84",
   "metadata": {},
   "source": [
    "# Lecture 2\n",
    "## Linear Algebra\n",
    "\n",
    "-----\n",
    "\n",
    "### Intro"
   ]
  },
  {
   "cell_type": "code",
   "execution_count": 55,
   "id": "6cc1f8be",
   "metadata": {},
   "outputs": [
    {
     "name": "stdout",
     "output_type": "stream",
     "text": [
      "[x, y, z] =  [1. 2. 3.]\n"
     ]
    }
   ],
   "source": [
    "import numpy as np\n",
    "import scipy.linalg\n",
    "np.random.seed(1)\n",
    "\n",
    "\"\"\"\n",
    "Equation:\n",
    "    3x + 6y + 5z = 30\n",
    "    4x - 2y + 1z =  3\n",
    "    2x + 4y - 3z =  1\n",
    "    \n",
    "    [3  6  5][x]   [30]\n",
    "    [4 -2  1][y] = [ 3]\n",
    "    [2  4 -3][z]   [ 1]\n",
    "       ↑      ↑     ↑\n",
    "       A      x  =  b\n",
    "\"\"\"\n",
    "\n",
    "A = [[3,  6,  5],\n",
    "     [4, -2,  1],\n",
    "     [2,  4, -3]]\n",
    "\n",
    "b = [30, 3, 1]\n",
    "\n",
    "print(\"[x, y, z] = \", np.linalg.solve(A, b))\n"
   ]
  },
  {
   "cell_type": "markdown",
   "id": "4b3fab63",
   "metadata": {},
   "source": [
    "### Gauss elimination (row reduction)"
   ]
  },
  {
   "cell_type": "code",
   "execution_count": 56,
   "id": "1e889867",
   "metadata": {},
   "outputs": [
    {
     "name": "stdout",
     "output_type": "stream",
     "text": [
      "[[  4.          -2.           1.           3.        ]\n",
      " [  0.           7.5          4.25        27.75      ]\n",
      " [  0.           0.          -6.33333333 -19.        ]]\n"
     ]
    }
   ],
   "source": [
    "combined = np.c_[A, b]\n",
    "print(scipy.linalg.lu(combined)[-1])"
   ]
  },
  {
   "cell_type": "markdown",
   "id": "4593e9e1",
   "metadata": {},
   "source": [
    "### Multiplication, Identity, and Inverse\n",
    "\n",
    "Multiplication is **not** commutative. The multiplicative identity $I$ satisfies $A = AI = IA$, it's essentially the number \"1\" but for matrices. The inverse, $A^{-1}$, of $A$ satisfies $A^{-1}A = AA^{-1} = I$. In other words, right/left multiplication by the inverse is like right/left division."
   ]
  },
  {
   "cell_type": "code",
   "execution_count": 57,
   "id": "f927a3ae",
   "metadata": {},
   "outputs": [
    {
     "name": "stdout",
     "output_type": "stream",
     "text": [
      "AB =\n",
      " [[12 17]\n",
      " [26 37]] \n",
      "\n",
      "BA =\n",
      " [[11 16]\n",
      " [26 38]] \n",
      "\n",
      "A⁻¹ =\n",
      " [[-2.   1. ]\n",
      " [ 1.5 -0.5]] \n",
      "\n",
      "A⁻¹A = AA⁻¹ =\n",
      " [[1. 0.]\n",
      " [0. 1.]]\n"
     ]
    }
   ],
   "source": [
    "A = [[1, 2],\n",
    "     [3, 4]]\n",
    "B = [[2, 3],\n",
    "     [5, 7]]\n",
    "\n",
    "A = np.array(A)\n",
    "B = np.array(B)\n",
    "A_inv = np.linalg.inv(A)\n",
    "\n",
    "\n",
    "with np.printoptions(precision=3, suppress=True):\n",
    "    print(\"AB =\\n\", A @ B, \"\\n\")\n",
    "    print(\"BA =\\n\", B @ A, \"\\n\")\n",
    "    print(\"A⁻¹ =\\n\", A_inv, \"\\n\")\n",
    "    print(\"A⁻¹A = AA⁻¹ =\\n\", A_inv @ A)"
   ]
  },
  {
   "cell_type": "markdown",
   "id": "5a02cd07",
   "metadata": {},
   "source": [
    "### Jacobian + Newton's Method\n",
    "\n",
    "Finding a root of\n",
    "$$f(x) = \\begin{bmatrix}1+x+y\\\\y-z\\\\ xy\\end{bmatrix}$$"
   ]
  },
  {
   "cell_type": "code",
   "execution_count": 98,
   "id": "7ff07d95",
   "metadata": {},
   "outputs": [
    {
     "name": "stdout",
     "output_type": "stream",
     "text": [
      "x, y, z = 1, 2, 3 \n",
      "\n",
      "f(x, y, z) =  [ 4 -1  2] \n",
      "\n",
      "J(f) (x, y, z) = \n",
      " [[ 1  1  0]\n",
      " [ 0  1 -1]\n",
      " [ 2  1  0]]\n"
     ]
    }
   ],
   "source": [
    "def f(x, y, z):\n",
    "    return np.array([1 + x + y, y - z, x*y])\n",
    "\n",
    "def Jacobian(x, y, z):\n",
    "    return np.array([[1, 1,  0],\n",
    "                     [0, 1, -1],\n",
    "                     [y, x, 0]])\n",
    "\n",
    "x, y, z = 1, 2, 3\n",
    "\n",
    "print(f\"x, y, z = {x}, {y}, {z}\", \"\\n\")\n",
    "print(\"f(x, y, z) = \", f(x, y, z), \"\\n\")\n",
    "print(\"J(f) (x, y, z) = \\n\", Jacobian(x, y, z))"
   ]
  },
  {
   "cell_type": "code",
   "execution_count": 100,
   "id": "e3f80ea2",
   "metadata": {},
   "outputs": [
    {
     "name": "stdout",
     "output_type": "stream",
     "text": [
      "x, y, z =  [ 0. -1. -1.]\n"
     ]
    }
   ],
   "source": [
    "def Newton(f, threshold=1e-5):\n",
    "    x, y, z = 1 + np.random.random(3) # Choose random 1 < x, y, z < 2\n",
    "    while np.linalg.norm(f(x, y, z)) > threshold:\n",
    "        J = Jacobian(x, y, z)\n",
    "        dx, dy, dz = np.linalg.solve(J, f(x, y, z))\n",
    "        x -= dx; y -= dy; z -= dz;\n",
    "    return np.array([x, y, z])\n",
    "\n",
    "with np.printoptions(precision=3, suppress=True):\n",
    "    print(\"x, y, z = \", Newton(f))"
   ]
  },
  {
   "cell_type": "markdown",
   "id": "7b7e75ee",
   "metadata": {},
   "source": [
    "### Broyden's Method\n",
    "\n",
    "Approximates the Jacobian using previous iterations:\n",
    "$$J_n\\Delta x_n \\approx \\Delta f_n.$$\n",
    "However, this isn't enough information to compute $J_n$.\n",
    "\n",
    "-----\n",
    "Example:\n",
    "$$f = \\begin{bmatrix}x+y\\\\x-y\\end{bmatrix},$$\n",
    "and $$\\Delta x = \\Delta y = 1\\implies \\Delta f = \\begin{bmatrix}2\\\\0\\end{bmatrix}.$$\n",
    "Both $$\\begin{bmatrix}2&0\\\\0&0\\end{bmatrix},\\text{ and }\\begin{bmatrix}1&1\\\\1&-1\\end{bmatrix}$$\n",
    "could be $J$.\n",
    "\n",
    "-----\n",
    "Use additional condition: For any vector $y$ perpendicular to $\\Delta x_n$, we force $J_ny = J_{n-1}y,$ which means we're only modifying $J$ in directions we have new information on. This gives\n",
    "$$J_n = J_{n-1} + (\\dots)\\Delta x_n^T,$$\n",
    "and plugging back into the first condition yields\n",
    "$$J_n = J_{n-1} + \\frac{\\Delta f_n - J_{n-1}\\Delta x_n}{\\Delta x_n^T \\Delta x_n}\\Delta x_n^T$$"
   ]
  },
  {
   "cell_type": "code",
   "execution_count": 117,
   "id": "453dd8be",
   "metadata": {},
   "outputs": [
    {
     "name": "stdout",
     "output_type": "stream",
     "text": [
      "[-3.9   -0.107 -2.001] [0. 0. 0.] [-3.9   -0.107 -2.001]\n",
      "[-0.  0. -0.]\n",
      "[-0.755 -1.964  2.08 ] [-4.008  1.893 -4.18 ] [1.370e+16 3.772e+14 7.027e+15]\n",
      "[-4.035  1.887 -4.481]\n",
      "[ 2.846e+27 -4.828e+27 -4.927e+30] [ 1.408e+16 -6.649e+15  5.167e+30] [5.476e+45 1.508e+44 2.809e+45]\n",
      "[ 2.846e+27 -4.828e+27  5.179e+30]\n",
      "[ 2.067e+88 -1.167e+87 -8.428e+89] [ 5.627e+45 -2.658e+45  8.258e+89] [-8.750e+104 -2.410e+103 -4.489e+104]\n",
      "[-1.116e+88 -1.167e+87  7.792e+89]\n",
      "[-1.144e+207  9.944e+205 -2.026e+208] [-8.991e+104  4.248e+104  2.109e+208] [2.532e+223 6.974e+221 1.299e+223]\n",
      "[-1.144e+207  9.944e+205 -2.026e+208]\n",
      "[nan nan nan] [ 2.602e+223 -1.229e+223         inf] [nan nan nan]\n",
      "[nan nan nan]\n",
      "x, y, z =  [nan nan nan]\n"
     ]
    },
    {
     "name": "stderr",
     "output_type": "stream",
     "text": [
      "C:\\Users\\James Camacho\\AppData\\Local\\Temp\\ipykernel_11268\\3386974444.py:14: RuntimeWarning: overflow encountered in matmul\n",
      "  J += np.outer((df - J @ delta) / (delta @ delta), delta.T)\n",
      "C:\\Users\\James Camacho\\AppData\\Local\\Temp\\ipykernel_11268\\3103511659.py:2: RuntimeWarning: overflow encountered in scalar multiply\n",
      "  return np.array([1 + x + y, y - z, x*y])\n"
     ]
    }
   ],
   "source": [
    "def Broyden(f, threshold=1e-5):\n",
    "    x, y, z = 1 + np.random.random(3) # Choose random 1 < x, y, z < 2\n",
    "    J = 1 + np.random.random((3, 3)) # Choose random initial Jacobian.\n",
    "    J = np.identity(3)\n",
    "    f_curr = f(x, y, z)\n",
    "    while np.linalg.norm(f(x, y, z)) > threshold:\n",
    "        f_prev, f_curr = f_curr, f(x, y, z)\n",
    "        dx, dy, dz = np.linalg.solve(J, f_curr)\n",
    "        x -= dx; y -= dy; z -= dz;\n",
    "        \n",
    "        delta = -np.array([dx, dy, dz])\n",
    "        df = f_curr - f_prev\n",
    "        print(J @ delta, df, delta)\n",
    "        J += np.outer((df - J @ delta) / (delta @ delta), delta.T)\n",
    "        print(J @ delta)\n",
    "    return np.array([x, y, z])\n",
    "\n",
    "with np.printoptions(precision=3, suppress=True):\n",
    "    print(\"x, y, z = \", Broyden(f))"
   ]
  },
  {
   "cell_type": "code",
   "execution_count": null,
   "id": "a3e37fa0",
   "metadata": {},
   "outputs": [],
   "source": []
  }
 ],
 "metadata": {
  "kernelspec": {
   "display_name": "Python 3 (ipykernel)",
   "language": "python",
   "name": "python3"
  },
  "language_info": {
   "codemirror_mode": {
    "name": "ipython",
    "version": 3
   },
   "file_extension": ".py",
   "mimetype": "text/x-python",
   "name": "python",
   "nbconvert_exporter": "python",
   "pygments_lexer": "ipython3",
   "version": "3.10.4"
  }
 },
 "nbformat": 4,
 "nbformat_minor": 5
}
