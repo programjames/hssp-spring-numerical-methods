{
 "cells": [
  {
   "cell_type": "markdown",
   "metadata": {
    "id": "6WCI2pG0SkeV"
   },
   "source": [
    "# Stable Diffusion for Digits\n",
    "## By James Camacho\n",
    "\n",
    "Papers that may be of interest:\n",
    "\n",
    "- [Convolutional Neural Networks](https://arxiv.org/pdf/1511.08458.pdf)\n",
    "- [Residual Connections](https://arxiv.org/pdf/1512.03385.pdf)\n",
    "- [Variational Autoencoders](https://arxiv.org/pdf/1312.6114.pdf)\n",
    "- [Recurrent Neural Networks](https://arxiv.org/pdf/1912.05911.pdf)\n",
    "- [Gated Recurrent Units (GRU)](https://arxiv.org/pdf/2111.00396.pdf)\n",
    "- [RNN Autoencoder](https://arxiv.org/pdf/1406.1078.pdf)\n",
    "- [State-Space Models](https://arxiv.org/pdf/2111.00396.pdf)\n",
    "- [RWKV](https://johanwind.github.io/2023/03/23/rwkv_details.html)\n",
    "- [Attention (Transformers)](https://arxiv.org/pdf/1706.03762.pdf)\n",
    "- [Scaling Laws](https://arxiv.org/pdf/2303.13506.pdf)\n",
    "- [Power Seeking?](https://arxiv.org/pdf/1912.01683.pdf)\n",
    "- [Photonic Matrix Multiplication](https://arxiv.org/pdf/2203.05466.pdf)\n",
    "- [Photonic Neural Network](https://arxiv.org/pdf/2208.01623.pdf)"
   ]
  },
  {
   "cell_type": "code",
   "execution_count": 31,
   "metadata": {
    "id": "n8QrBWKOiIfb"
   },
   "outputs": [],
   "source": [
    "# Imports\n",
    "\n",
    "import torch\n",
    "import torch.nn as nn\n",
    "import torch.nn.functional as F\n",
    "from torchvision import datasets, transforms\n",
    "from tqdm.notebook import tqdm\n",
    "\n",
    "import numpy as np\n",
    "import matplotlib.pyplot as plt\n",
    "from itertools import chain"
   ]
  },
  {
   "cell_type": "code",
   "execution_count": 32,
   "metadata": {
    "colab": {
     "base_uri": "https://localhost:8080/"
    },
    "id": "WVZKQzA4iOoa",
    "outputId": "41210781-8d71-4ffe-8ed9-358dd1f85d2c"
   },
   "outputs": [
    {
     "name": "stdout",
     "output_type": "stream",
     "text": [
      "True\n"
     ]
    }
   ],
   "source": [
    "# Check if we have GPU\n",
    "\n",
    "cuda_available = torch.cuda.is_available()\n",
    "print(cuda_available)"
   ]
  },
  {
   "cell_type": "code",
   "execution_count": 35,
   "metadata": {
    "id": "_qO0KceIiQMI"
   },
   "outputs": [],
   "source": [
    "%%capture output\n",
    "\n",
    "# Download data and define image transformations (flatten + normalize)\n",
    "# We split our data into train and test datasets. When the loss is small for\n",
    "# the training data, we still want it to work with data it's never seen.\n",
    "\n",
    "transform = transforms.Compose([\n",
    "    transforms.ToTensor(),\n",
    "    transforms.Normalize((0.1307,), (0.3081,))\n",
    "])\n",
    "\n",
    "\n",
    "\n",
    "trainset = datasets.MNIST('data', train=True, download=True, transform=transform)\n",
    "testset = datasets.MNIST('data', train=False, download=True, transform=transform)\n",
    "\n",
    "train_loader = torch.utils.data.DataLoader(trainset, batch_size=64, shuffle=True)\n",
    "test_loader = torch.utils.data.DataLoader(testset, batch_size=1000, shuffle=False)"
   ]
  },
  {
   "cell_type": "code",
   "execution_count": 36,
   "metadata": {
    "id": "SJbHypLviR29"
   },
   "outputs": [],
   "source": [
    "class Encoder(nn.Module):\n",
    "    \"\"\"\n",
    "    A convolutional encoder.\n",
    "\n",
    "    For the MNIST dataset this will be:\n",
    "    28 x 28 image ->\n",
    "    16 x 10 x 10 representation ->\n",
    "    32 x 4 x 4 representation ->\n",
    "    hidden_size latent space.\n",
    "    \"\"\"\n",
    "    def __init__(self, input_size, hidden_size):\n",
    "        super().__init__()\n",
    "        self.convolutions = nn.ModuleList([\n",
    "            nn.Conv2d(1, 16, kernel_size=3, stride=3, padding=1),\n",
    "            nn.Conv2d(16, 32, kernel_size=3, stride=3, padding=1),\n",
    "        ])\n",
    "        conv_size = 32 * ((input_size+8)//9)**2\n",
    "        self.fc = nn.Linear(conv_size, hidden_size)\n",
    "        \n",
    "    def forward(self, x):\n",
    "        for conv in self.convolutions:\n",
    "            x = F.elu(conv(x))\n",
    "        x = x.view(x.shape[0], -1)\n",
    "        return torch.tanh(self.fc(x))\n",
    "\n",
    "class Decoder(nn.Module):\n",
    "    \"\"\"\n",
    "    The reverse process.\n",
    "    \"\"\"\n",
    "    def __init__(self, hidden_size, output_size):\n",
    "        super().__init__()\n",
    "        self.fc = nn.Linear(hidden_size, 32 * ((output_size+8)//9)**2)\n",
    "        self.deconvolutions = nn.ModuleList([\n",
    "            nn.ConvTranspose2d(32, 16, kernel_size=3, stride=3, padding=1),\n",
    "            nn.ConvTranspose2d(16, 1, kernel_size=3, stride=3, padding=1),\n",
    "        ])\n",
    "        \n",
    "    def forward(self, x):\n",
    "        x = F.elu(self.fc(x))\n",
    "        x = x.view(x.shape[0], 32, 4, 4)\n",
    "        for deconv in self.deconvolutions:\n",
    "            x = F.elu(deconv(x))\n",
    "        return x"
   ]
  },
  {
   "cell_type": "code",
   "execution_count": null,
   "metadata": {
    "id": "f2yXdbN7iSTG"
   },
   "outputs": [],
   "source": [
    "def train_autoencoder(encoder, decoder, optim, epochs=10):\n",
    "  encoder.train()\n",
    "  decoder.train()\n",
    "\n",
    "  for epoch in range(epochs):\n",
    "    total_loss = 0\n",
    "    pbar = tqdm(train_loader)\n",
    "    for batch_idx, (data, target) in enumerate(pbar):\n",
    "      if cuda_available:\n",
    "        data = data.cuda()\n",
    "      \n",
    "      optim.zero_grad()\n",
    "\n",
    "      output = decoder(encoder(data))\n",
    "      loss = F.mse_loss(output, data)\n",
    "      \n",
    "      loss.backward()\n",
    "      optim.step()\n",
    "\n",
    "      total_loss += loss.item()\n",
    "      if batch_idx % 1 == 0:\n",
    "        pbar.set_description('Train Epoch: {} [{}/{} ({:.0f}%)]\\tLoss: {:.6f}'.format(\n",
    "          epoch, batch_idx * len(data), len(train_loader.dataset),\n",
    "          100. * batch_idx / len(train_loader), total_loss / (1 + batch_idx)))\n",
    "        \n",
    "def test_autoencoder(encoder, decoder):\n",
    "  encoder.eval()\n",
    "  decoder.eval()\n",
    "\n",
    "  with torch.no_grad():\n",
    "    total_loss = 0\n",
    "    for (data, target) in test_loader:\n",
    "      if cuda_available:\n",
    "        data = data.cuda()\n",
    "      \n",
    "      output = decoder(encoder(data))\n",
    "      loss = F.mse_loss(output, data)\n",
    "      total_loss += loss.item()\n",
    "  \n",
    "  return total_loss / len(test_loader)"
   ]
  },
  {
   "cell_type": "code",
   "execution_count": null,
   "metadata": {
    "colab": {
     "base_uri": "https://localhost:8080/",
     "height": 355,
     "referenced_widgets": [
      "c8caee79ae10410497a06ad7a0f02b82",
      "b0872f620ec94329a216ee71eb42de46",
      "a491ef3fddbc409c9cb4d42cef764e55",
      "56cfa9c764864963910ebc5ae3855630",
      "64e1eb98f8b24ede91126e29161c9485",
      "c8f2684a444c4ce5ae37b1850265e011",
      "9fd78de2e2564b00b4a020e4d0e7eb2c",
      "ca1cf26f71f0416a99939e3c826cb019",
      "171d2f0991384e829c8b96d05ab13c10",
      "b7b1bbd856c74b769d069ecc21933c86",
      "a48e5ca620d44e1395fc551f32df9120",
      "18c61dcf2c544a9bab26d2dcc6be9c58",
      "bffda33dc875484f84a46a8829a44d7d",
      "cae047483c344cf1aa98a71f9769d61b",
      "536b890a436346b6a711c4dc8be054db",
      "a800cf0eebb14ad1a1830cc876c5cccb",
      "35bcedf6414d4608b1cc7c75afa72815",
      "f45a1fb6c0d74036b123bd1f4d8fbc48",
      "a1a285f1468e45a683c6736dd2a7657f",
      "735f364e986e48eb96ecf8264ee8e59c",
      "0aacea0f0a8843ec81f8ab32b3d7ca8f",
      "a2fd17b5febd4e2bbdc98885033817a5",
      "af44245ec3524f5dba8e406ae1f43838",
      "f2b49c2df1604967aaa7f48a8b93f85b",
      "6ceba04ce5d948b19d52ecb984f16fcd",
      "29525e77cfca484e8d400ccc4fdaf3f3",
      "d44ab8d389a64a20a9200f756819acd2",
      "eef0940d1a6147e6995cde172458b537",
      "d1619cdddb524a10926ec311b13e2baf",
      "ba7f486e99e54d0991bfb7fad768cec8",
      "32444562c8504b15aee8f56e3f8a063d",
      "89c6c23e3d964b10b8dccb15a76c5313",
      "a3d8c4ef0dc24cfb8423242ddb489fe8",
      "6fa305c4e99e492a924cffb232ead4aa",
      "4f3338c0ac9e46eba20b7bf795c03c77",
      "469dd0fcbbbf4afabf0ae8649f3bc4e0",
      "982e26b13268474e99a1bfadddecf900",
      "78730ea7885547fcb44285ad7f3eb7c7",
      "5e576aafd4e24becbcaefca01ff8c4ec",
      "4d6f373070094a5b8a0e224f8112e096",
      "bbdb1ab7ee5d468084ff8d242ad6914c",
      "3b5a406ceca743f4afbbc0cd7ac6c4fc",
      "6e8bb8b60d9a4192a79027d42e72abb1",
      "cae4a96512c74427b9ed7d27dcd94deb",
      "1ad9b0641da24d1fb87365de093d145e",
      "c6723a1531c5450c853f23fca9d1ce03",
      "dc4383df18c84a51bed2f2bb757a3d58",
      "3200d389692e4118aecf4f4afffaa81a",
      "78cbdd12f7f54238b2e4c13e92a9941a",
      "d385bdabe8544a169878dad937b9f1ad",
      "7e939b9e18d9410a9e41802a0f08d2b0",
      "de0844b523d248959ed278bcbe9986a8",
      "980ea4b0487641349558b104cf1346fd",
      "9fd751bcf66145e0a8340c45b670301a",
      "b65af88b4f1b4dc6a7862324ed2ec15d",
      "a60a5483b4014b0898571ba715defeeb",
      "f5a5ee11fbf7496b8434bbfc8102eea4",
      "578aa5dd7c414441ac8cba4d89ed7d1e",
      "bfd1f1e77d7e417dbfbdee3b0ab10a3f",
      "64c96a30ccb5488a98cdab53470ac02e",
      "bbf391041d714639ab46a9e0fdf12692",
      "db2beea551ae478190e22dc24a10d7d3",
      "df2116c46ccc47dc9b5c9f82b09def42",
      "e92060dfb7df4debb65533bd33f35be6",
      "2b06403525c543daa58dbe868bccc7d6",
      "c474ed08d88e4a429997419cf42c8f73",
      "6cc8b06b369544d093b42b9605a67475",
      "34fd4e017b804099b174a0c17b6f6d87",
      "ac496d9dd9b4438d86f01c573f700141",
      "5445ab3f8ba741659abaeb043ab2e3e0",
      "b3023b321988488badd0e91737afd289",
      "7abf0e22233040d593f4ea66bb1e51ed",
      "c7cf24704f2040b5b4534f955660db2d",
      "17b925c249c14dfba4075a06cd10e6a0",
      "869efe5f760d40d19a1e0a31ceddff5b",
      "b3f12488dfbb4d76a5c7241adc71fb47",
      "46d79158a8964b758d050c85040eb8f6",
      "b2e5d67d5f674d13ba401aede06cb13e",
      "2c2110b7d6ca4d2e9d9ad3956b6ab19e",
      "8ac1a8c6e2bf443299e7051db5d17465",
      "8844ab76bee846d0a8598afbd11b371b",
      "0246d5239a644a3ab993036fd8034b40",
      "a2cd9ae786654b3a8ee5dd1569e33af1",
      "5e632462de2443078f60e3b07edb617c",
      "c1a3a495f03845eaa9c7b32906ead03b",
      "422f24bcbaf348faa9248dd44362d122",
      "d518b619e5f14dea9ed65f914106bfcd",
      "39249891539248afb20caa717aac42e5",
      "9043840cc7b44cc190d973fbddcba1a8",
      "5df609e33cca4347a22621d9595118d7",
      "1cc3650772984c1dbc33856adfbbb742",
      "fa44dfd39895414abf5c3603a8c3a77b",
      "e4a54a3ba09f4034b2aa623357246d62",
      "85bbe18366f145b6a020707fbf68aec6",
      "49434ab2f6b44031bf39b500cf058837",
      "c32593ce35f34d3ca92727fac79e772b",
      "3a1336cc0e824901910df2df63082f0d",
      "ee8bd1ace9794a44b76b109717528cde",
      "71c52a41ba304925beddcaa90b4984b0",
      "64e578777c6947d38717d27cc1f843d8",
      "b74c5258781240fc96de380f736e16f0",
      "2a57bda43b614fa2809fc3df12658933",
      "4c9bc34a926c455eaf313e3c379cbc05",
      "cc6e0f111ad246bfadaa0add4ce28fc3",
      "9f2db561b6b84f95a5697b4625899dc6",
      "e4a5d77b919746b5b6f2139c1e0a8c8e",
      "afd12a69cbdd4ba7ba8768151fc901d4",
      "e8f55d14b9d64fe3a039eab384deb736",
      "31d5ae3ff5e7448e8f4a23f50f9ae8f9",
      "df4eb86e7e9e4d709c60fad74706679c"
     ]
    },
    "id": "VLACsD6piYk5",
    "outputId": "e690176a-d3da-4a14-c1fa-e168349470b1"
   },
   "outputs": [
    {
     "data": {
      "application/vnd.jupyter.widget-view+json": {
       "model_id": "c8caee79ae10410497a06ad7a0f02b82",
       "version_major": 2,
       "version_minor": 0
      },
      "text/plain": [
       "  0%|          | 0/938 [00:00<?, ?it/s]"
      ]
     },
     "metadata": {},
     "output_type": "display_data"
    },
    {
     "data": {
      "application/vnd.jupyter.widget-view+json": {
       "model_id": "18c61dcf2c544a9bab26d2dcc6be9c58",
       "version_major": 2,
       "version_minor": 0
      },
      "text/plain": [
       "  0%|          | 0/938 [00:00<?, ?it/s]"
      ]
     },
     "metadata": {},
     "output_type": "display_data"
    },
    {
     "data": {
      "application/vnd.jupyter.widget-view+json": {
       "model_id": "af44245ec3524f5dba8e406ae1f43838",
       "version_major": 2,
       "version_minor": 0
      },
      "text/plain": [
       "  0%|          | 0/938 [00:00<?, ?it/s]"
      ]
     },
     "metadata": {},
     "output_type": "display_data"
    },
    {
     "data": {
      "application/vnd.jupyter.widget-view+json": {
       "model_id": "6fa305c4e99e492a924cffb232ead4aa",
       "version_major": 2,
       "version_minor": 0
      },
      "text/plain": [
       "  0%|          | 0/938 [00:00<?, ?it/s]"
      ]
     },
     "metadata": {},
     "output_type": "display_data"
    },
    {
     "data": {
      "application/vnd.jupyter.widget-view+json": {
       "model_id": "1ad9b0641da24d1fb87365de093d145e",
       "version_major": 2,
       "version_minor": 0
      },
      "text/plain": [
       "  0%|          | 0/938 [00:00<?, ?it/s]"
      ]
     },
     "metadata": {},
     "output_type": "display_data"
    },
    {
     "data": {
      "application/vnd.jupyter.widget-view+json": {
       "model_id": "a60a5483b4014b0898571ba715defeeb",
       "version_major": 2,
       "version_minor": 0
      },
      "text/plain": [
       "  0%|          | 0/938 [00:00<?, ?it/s]"
      ]
     },
     "metadata": {},
     "output_type": "display_data"
    },
    {
     "data": {
      "application/vnd.jupyter.widget-view+json": {
       "model_id": "6cc8b06b369544d093b42b9605a67475",
       "version_major": 2,
       "version_minor": 0
      },
      "text/plain": [
       "  0%|          | 0/938 [00:00<?, ?it/s]"
      ]
     },
     "metadata": {},
     "output_type": "display_data"
    },
    {
     "data": {
      "application/vnd.jupyter.widget-view+json": {
       "model_id": "b2e5d67d5f674d13ba401aede06cb13e",
       "version_major": 2,
       "version_minor": 0
      },
      "text/plain": [
       "  0%|          | 0/938 [00:00<?, ?it/s]"
      ]
     },
     "metadata": {},
     "output_type": "display_data"
    },
    {
     "data": {
      "application/vnd.jupyter.widget-view+json": {
       "model_id": "9043840cc7b44cc190d973fbddcba1a8",
       "version_major": 2,
       "version_minor": 0
      },
      "text/plain": [
       "  0%|          | 0/938 [00:00<?, ?it/s]"
      ]
     },
     "metadata": {},
     "output_type": "display_data"
    },
    {
     "data": {
      "application/vnd.jupyter.widget-view+json": {
       "model_id": "64e578777c6947d38717d27cc1f843d8",
       "version_major": 2,
       "version_minor": 0
      },
      "text/plain": [
       "  0%|          | 0/938 [00:00<?, ?it/s]"
      ]
     },
     "metadata": {},
     "output_type": "display_data"
    },
    {
     "name": "stdout",
     "output_type": "stream",
     "text": [
      "0.08348942399024964\n"
     ]
    }
   ],
   "source": [
    "encoder = Encoder(28, 32)\n",
    "decoder = Decoder(32, 28)\n",
    "if cuda_available:\n",
    "  encoder = encoder.cuda()\n",
    "  decoder = decoder.cuda()\n",
    "# Train w/ Adam\n",
    "optim = torch.optim.Adam(chain(encoder.parameters(), decoder.parameters()))\n",
    "train_autoencoder(encoder, decoder, optim, 10)\n",
    "print(test_autoencoder(encoder, decoder))"
   ]
  },
  {
   "cell_type": "code",
   "execution_count": 61,
   "metadata": {
    "colab": {
     "base_uri": "https://localhost:8080/",
     "height": 292
    },
    "id": "TN6r1d5lidzR",
    "outputId": "8a6111d1-7838-4e28-a0a5-db835a093ddc"
   },
   "outputs": [
    {
     "data": {
      "image/png": "[encoded data removed]",
      "text/plain": [
       "<Figure size 500x1000 with 2 Axes>"
      ]
     },
     "metadata": {},
     "output_type": "display_data"
    },
    {
     "data": {
      "image/png": "[encoded data removed]",
      "text/plain": [
       "<Figure size 640x480 with 1 Axes>"
      ]
     },
     "metadata": {},
     "output_type": "display_data"
    }
   ],
   "source": [
    "# Example encoding/decoding\n",
    "\n",
    "x, y = testset[0]\n",
    "\n",
    "fig, ax = plt.subplots(1, 2, figsize=(5, 10))\n",
    "z = encoder(x.cuda().unsqueeze(0))\n",
    "decoded = decoder(z).squeeze().squeeze().detach().cpu().numpy()\n",
    "\n",
    "# Plot\n",
    "ax[0].set_title(\"Original\")\n",
    "ax[1].set_title(\"Decoded\")\n",
    "ax[0].imshow(x[0], cmap=\"gray\")\n",
    "ax[1].imshow(decoded, cmap=\"gray\")\n",
    "ax[0].get_xaxis().set_visible(False)\n",
    "ax[1].get_xaxis().set_visible(False)\n",
    "ax[0].get_yaxis().set_visible(False)\n",
    "ax[1].get_yaxis().set_visible(False)\n",
    "plt.show()\n",
    "\n",
    "plt.title(\"Latent Representation\")\n",
    "plt.axis(\"off\")\n",
    "plt.imshow(z.detach().cpu().numpy(), cmap=\"gray\")\n",
    "plt.show();"
   ]
  },
  {
   "cell_type": "code",
   "execution_count": 56,
   "metadata": {
    "id": "QbGusxHrinyL"
   },
   "outputs": [],
   "source": [
    "class Diffuser(nn.Module):\n",
    "    \"\"\"\n",
    "    Predicts the noise of the inputs.\n",
    "    \"\"\"\n",
    "    def __init__(self, input_size, context_size, hidden_size):\n",
    "        super().__init__()\n",
    "        self.fc = nn.ModuleList([\n",
    "            nn.Linear(input_size + context_size, hidden_size),\n",
    "            nn.Linear(hidden_size, hidden_size),\n",
    "            nn.Linear(hidden_size, hidden_size),\n",
    "            nn.Linear(hidden_size, hidden_size),\n",
    "            nn.Linear(hidden_size, hidden_size),\n",
    "            nn.Linear(hidden_size, hidden_size),\n",
    "            nn.Linear(hidden_size, input_size),\n",
    "        ])\n",
    "        \n",
    "    def forward(self, x):\n",
    "        x = F.elu(self.fc[0](x))\n",
    "        for res in self.fc[1:-1]:\n",
    "          x = x + F.elu(res(x)) # residual connections!\n",
    "        return self.fc[-1](x)"
   ]
  },
  {
   "cell_type": "code",
   "execution_count": null,
   "metadata": {
    "id": "oyLObu0tipyI"
   },
   "outputs": [],
   "source": [
    "def train_diffuser(diffuser, encoder, optim, epochs=10):\n",
    "  diffuser.train()\n",
    "  encoder.eval()\n",
    "\n",
    "  for epoch in range(epochs):\n",
    "    total_loss = 0\n",
    "    pbar = tqdm(train_loader)\n",
    "    for batch_idx, (data, target) in enumerate(pbar):\n",
    "      if cuda_available: data = data.cuda()\n",
    "      with torch.no_grad():\n",
    "        data = encoder(data)\n",
    "      noise = torch.randn(data.size()) #* (1 + epoch) / epochs\n",
    "      if cuda_available: noise = noise.cuda()\n",
    "      data += noise\n",
    "\n",
    "      # Add digit\n",
    "      if np.random.rand() < 0.1:\n",
    "        one_hot = F.one_hot(target, num_classes=10)\n",
    "      else:\n",
    "        one_hot = torch.zeros((*target.size(), 10))\n",
    "\n",
    "      if cuda_available: one_hot = one_hot.cuda()\n",
    "      \n",
    "      data = torch.cat((data, one_hot), dim=-1)\n",
    "      \n",
    "      optim.zero_grad()\n",
    "      output = diffuser(data)\n",
    "      loss = F.mse_loss(output, noise)\n",
    "      loss.backward()\n",
    "      optim.step()\n",
    "\n",
    "      total_loss += loss.item()\n",
    "      if batch_idx % 1 == 0:\n",
    "        pbar.set_description('Train Epoch: {} [{}/{} ({:.0f}%)]\\tLoss: {:.6f}'.format(\n",
    "          epoch, batch_idx * len(data), len(train_loader.dataset),\n",
    "          100. * batch_idx / len(train_loader), total_loss / (1 + batch_idx)))"
   ]
  },
  {
   "cell_type": "code",
   "execution_count": null,
   "metadata": {
    "id": "O3nUBpWOivrt"
   },
   "outputs": [],
   "source": [
    "diffuser = Diffuser(32, 10, 128)\n",
    "if cuda_available:\n",
    "  diffuser = diffuser.cuda()"
   ]
  },
  {
   "cell_type": "code",
   "execution_count": null,
   "metadata": {
    "colab": {
     "base_uri": "https://localhost:8080/",
     "height": 337,
     "referenced_widgets": [
      "e9e10be19c3b42788e2d764acbb7f045",
      "bc192f6d3d914803a09406fc68ccf2f5",
      "03790212b1ca471f974f8fce7f3a7828",
      "8a2093f7d1a442b28eceb4bde772a792",
      "0d5da3d724514576b3ee6267c7b2fa5d",
      "56fa5e18c795424288fabd96b92fa849",
      "136ef42089ed400682a5f7a274056fbe",
      "1d559c5bb8c64e58856a84b004a7aa2b",
      "0d6c1f29d05d40aea848e9ce178fedbe",
      "902228f904f44ecf95c55fa84191e144",
      "3716283dfe5248438e72732e8fe96941",
      "406306e3fb0444afafbd772cc9dc7b64",
      "362d41356ef347beb526abeee125584e",
      "8527a15f25c3466dadad5cf6524abb83",
      "415d4f16707441bc90884b0b8ae99036",
      "68710f92cded47f2a76d23243486fe06",
      "7107efd27bb64fe58e7e004786bf7ea2",
      "18ca3634c9b94651b329c3f6b10cce5a",
      "abe8a35147f1465ab2a09c68c7c538eb",
      "cd4cdd22d71c4eaeb774cea60d8d6151",
      "da0e4f7aaa9c4bf486638ca01f6becca",
      "7282e48bc8fa44e593116aac6c6853de",
      "25495128ae2c4757a5d03f709b18288c",
      "6c1a19eedc6f40779704ab77d9797b2f",
      "97cd6d8f7c934de39759930f7df6cec1",
      "c88c58046b0f4a61b8ac82a784fc5ae4",
      "1381f7e7acd1442d8b146e3634019dfc",
      "bcee0c38a6a345d8a60036fb82c46017",
      "6f2942bbbbde450b82fe91f23edf38f7",
      "e3da8619e70b4c7b8bc21a282d6235fa",
      "615264d4df064759b9092e133e82669f",
      "c433701831fa41ba8f4c2b6672cf0d18",
      "c819e6ec459f4499826a5ff36ee9f833",
      "5e04aac3e9da4fb5a70d0bbe68c6da62",
      "bcf8a0576fb64e4a870856020adca758",
      "cbfe067fff454816bdc36fd24b9a88a5",
      "62f26c8ac0714a16bfef339b9d2b62f1",
      "3984129d3150438b8c1047ca496d1f93",
      "a71661d7fce446cfa38d8d13aa343888",
      "30d036e951c947f79ac1fe5a3f94859a",
      "412afd13ce71409a94e599757e17e6f4",
      "2cd0d7c1c8424abbb75856d8de3d4003",
      "0318f670438a43b7a790db66a87015fc",
      "e52db55f5aeb4832af0215430e5df024",
      "7d7f0c5c938d45b18cbde33d2f20954f",
      "1140109e8143463b98fba6c1c9568ada",
      "91975eafac944a0ab89d1ece8200d98c",
      "1066ff72feb84a8d8ffe070331a20bc2",
      "b8283776e6a74bb1a87dea84c5c70e13",
      "deb03ca826c9480bae4552bd9115c071",
      "0dd1f1eef5d5420ba9870adc656bd251",
      "b3d7a9d1eb704785898d7dfa824db730",
      "a7b409346d574108af3661cbe73fb4c7",
      "c8094acd6648489f87684356c135873f",
      "861c2036911e4787b46368a12e3a3c49",
      "3caa5ff45aa34b249cdbdb8bd2b533b6",
      "8477eecb38cf419db8ba28e334ea6bc3",
      "b220cb50fc3e493a88e4237053d0c0bb",
      "61857a6b4c7f43d4ad00cd543946720f",
      "c160be613edc4dd5b4eafb32463f8bc9",
      "fce38d25a93b4013960ba84b118bcc4b",
      "59f649efc04f419a89129e39ac33c15e",
      "7d83cad939d442f191bb8714d15e718d",
      "96064512c2f8462eb4afd2fbe2972209",
      "a69b9162deb54411859de0d7b55eb154",
      "f0ac955daed24909971b1d025271d38b",
      "da3fd7f7eefb46108c15c4d68ec57be5",
      "56800b7476e044e2b0a737f71a1210e5",
      "ecf7991692104d3e864bf8a6f2d0debb",
      "f9b9de0f71574a2faab362e5a2c5835c",
      "8032e06d84e14faf945840ce8c54162a",
      "092ab7b0d97e4c4d87ac961758a79248",
      "791abf193b5a4d099fa2d642caabb169",
      "ac0cdc9a9a604a95909a5a3177f12dcf",
      "12511f2d65264bbe9c4564f8428559c7",
      "406c42c375c94bf6a47bc8095db1b421",
      "7d95f43845ff4dfbb8ae2a55413c097f",
      "4fdea010c4ab43d3970f46c6978a93b4",
      "5a5f87319a754aacb796b3335e99c000",
      "a28f72bc4bd54ca4a92dcd0b7aaf1f7c",
      "b34db5c9619e48bbb544c86d93cfbdb0",
      "e298add8e9b9492fb176d85a73e9dea8",
      "3792eb5fc2f7434da32effe16227bc73",
      "9326625917354f478f009e075e567af2",
      "3848adbccc45490082385f904b17b180",
      "ceced4df25ce45e39f451f401de402c4",
      "ba6e138c6c5f43019c55d8a6f97b6b7e",
      "60e3762b2a2e4163bf4c66fb670acbf1",
      "0271535dfed0410eb7a57600b7955888",
      "013d63f10c6a41fc88005a37dc1182cf",
      "a3cb67faa2354dcd8ea56351034d09bd",
      "3f0782daa65a466cb46a49e6224ff535",
      "a2c039cae78c4cf7a6099111fa5b4951",
      "d870b1f5df354242a24b23409adc9691",
      "b24e0add47f749aeb1f8296165630d65",
      "387b96d81e2948e08534215fe6bd6ac3",
      "a2bf7c2a1fdc41bc9e54283783e5f6d0",
      "d12242352d0d4c8b96618f74c5e0a898",
      "d3cf874fd14a447ab7d5c46f7cd6f3e3",
      "fee83e21ac7840d2976c0e5bbf3a0eda",
      "643b7d7f24134579955ac492f5fe70f2",
      "e0d5ce63fd434aa0b1b01f6aacaadd49",
      "1210de7899c14007a4f8984529d5c324",
      "6ccceac5a21e4e89abcbccb53dfd9d23",
      "f8b55aa1e37d451a84986a17855e3a14",
      "d41f9f402ce8494ea577ce979d2ffcbc",
      "f9539c82e7dc4b6daf91a7477882ad57",
      "f038b25ea2784745b525f25b80543458",
      "89dc45636fd24a4588b76bd37d7d9b80",
      "39e86ddbb8854251ac9162d6c4a4cae3"
     ]
    },
    "id": "lsXA9PuQizB-",
    "outputId": "2696c663-0a09-40f4-d8a5-1a7c374b0eb0"
   },
   "outputs": [
    {
     "data": {
      "application/vnd.jupyter.widget-view+json": {
       "model_id": "e9e10be19c3b42788e2d764acbb7f045",
       "version_major": 2,
       "version_minor": 0
      },
      "text/plain": [
       "  0%|          | 0/938 [00:00<?, ?it/s]"
      ]
     },
     "metadata": {},
     "output_type": "display_data"
    },
    {
     "data": {
      "application/vnd.jupyter.widget-view+json": {
       "model_id": "406306e3fb0444afafbd772cc9dc7b64",
       "version_major": 2,
       "version_minor": 0
      },
      "text/plain": [
       "  0%|          | 0/938 [00:00<?, ?it/s]"
      ]
     },
     "metadata": {},
     "output_type": "display_data"
    },
    {
     "data": {
      "application/vnd.jupyter.widget-view+json": {
       "model_id": "25495128ae2c4757a5d03f709b18288c",
       "version_major": 2,
       "version_minor": 0
      },
      "text/plain": [
       "  0%|          | 0/938 [00:00<?, ?it/s]"
      ]
     },
     "metadata": {},
     "output_type": "display_data"
    },
    {
     "data": {
      "application/vnd.jupyter.widget-view+json": {
       "model_id": "5e04aac3e9da4fb5a70d0bbe68c6da62",
       "version_major": 2,
       "version_minor": 0
      },
      "text/plain": [
       "  0%|          | 0/938 [00:00<?, ?it/s]"
      ]
     },
     "metadata": {},
     "output_type": "display_data"
    },
    {
     "data": {
      "application/vnd.jupyter.widget-view+json": {
       "model_id": "7d7f0c5c938d45b18cbde33d2f20954f",
       "version_major": 2,
       "version_minor": 0
      },
      "text/plain": [
       "  0%|          | 0/938 [00:00<?, ?it/s]"
      ]
     },
     "metadata": {},
     "output_type": "display_data"
    },
    {
     "data": {
      "application/vnd.jupyter.widget-view+json": {
       "model_id": "3caa5ff45aa34b249cdbdb8bd2b533b6",
       "version_major": 2,
       "version_minor": 0
      },
      "text/plain": [
       "  0%|          | 0/938 [00:00<?, ?it/s]"
      ]
     },
     "metadata": {},
     "output_type": "display_data"
    },
    {
     "data": {
      "application/vnd.jupyter.widget-view+json": {
       "model_id": "da3fd7f7eefb46108c15c4d68ec57be5",
       "version_major": 2,
       "version_minor": 0
      },
      "text/plain": [
       "  0%|          | 0/938 [00:00<?, ?it/s]"
      ]
     },
     "metadata": {},
     "output_type": "display_data"
    },
    {
     "data": {
      "application/vnd.jupyter.widget-view+json": {
       "model_id": "4fdea010c4ab43d3970f46c6978a93b4",
       "version_major": 2,
       "version_minor": 0
      },
      "text/plain": [
       "  0%|          | 0/938 [00:00<?, ?it/s]"
      ]
     },
     "metadata": {},
     "output_type": "display_data"
    },
    {
     "data": {
      "application/vnd.jupyter.widget-view+json": {
       "model_id": "0271535dfed0410eb7a57600b7955888",
       "version_major": 2,
       "version_minor": 0
      },
      "text/plain": [
       "  0%|          | 0/938 [00:00<?, ?it/s]"
      ]
     },
     "metadata": {},
     "output_type": "display_data"
    },
    {
     "data": {
      "application/vnd.jupyter.widget-view+json": {
       "model_id": "fee83e21ac7840d2976c0e5bbf3a0eda",
       "version_major": 2,
       "version_minor": 0
      },
      "text/plain": [
       "  0%|          | 0/938 [00:00<?, ?it/s]"
      ]
     },
     "metadata": {},
     "output_type": "display_data"
    }
   ],
   "source": [
    "optim = torch.optim.Adam(diffuser.parameters())\n",
    "train_diffuser(diffuser, encoder, optim, 10)"
   ]
  },
  {
   "cell_type": "code",
   "execution_count": 72,
   "metadata": {
    "colab": {
     "base_uri": "https://localhost:8080/",
     "height": 900
    },
    "id": "aKPdw5WvizOx",
    "outputId": "8e2b41d1-378e-4f18-83a9-a101d321a784"
   },
   "outputs": [
    {
     "data": {
      "image/png": "[encoded data removed]",
      "text/plain": [
       "<Figure size 1000x1000 with 25 Axes>"
      ]
     },
     "metadata": {},
     "output_type": "display_data"
    }
   ],
   "source": [
    "def to_img(latent):\n",
    "  return decoder(latent).squeeze().squeeze().detach().cpu().numpy()\n",
    "\n",
    "def generate(digit=None, steps=24, alpha=2e-1, beta=2):\n",
    "  diffuser.eval()\n",
    "  decoder.eval()\n",
    "  \n",
    "  if digit is None:\n",
    "    digit = np.random.randint(10)\n",
    "  with torch.no_grad():\n",
    "    x = torch.randn(1, 32)\n",
    "    zero_hot = torch.zeros((1, 10))\n",
    "    one_hot = torch.clone(zero_hot)\n",
    "    one_hot[0, digit] = 1\n",
    "    if cuda_available:\n",
    "      x = x.cuda()\n",
    "      zero_hot = zero_hot.cuda()\n",
    "      one_hot = one_hot.cuda()\n",
    "\n",
    "    images = [torch.clone(x)]\n",
    "    for i in range(steps):\n",
    "      noise1 = diffuser(torch.cat((x, zero_hot), dim=-1))\n",
    "      noise2 = diffuser(torch.cat((x, one_hot), dim=-1))\n",
    "      x -= alpha * (beta * noise2 + (1-beta) * noise1)\n",
    "      images.append(torch.clone(x))\n",
    "  \n",
    "  return images\n",
    "\n",
    "fig, axes = plt.subplots(5, 5, figsize=(10, 10))\n",
    "fig.suptitle(\"Diffusion Process\")\n",
    "fig.subplots_adjust(top=0.96)\n",
    "for i, latent in enumerate(generate(6)):\n",
    "  ax = axes[i//5, i%5]\n",
    "  ax.imshow(to_img(latent), cmap=\"gray\")\n",
    "  ax.get_xaxis().set_visible(False)\n",
    "  ax.get_yaxis().set_visible(False)\n",
    "plt.show();"
   ]
  },
  {
   "cell_type": "code",
   "execution_count": null,
   "metadata": {
    "id": "8J5uPutqjr7g"
   },
   "outputs": [],
   "source": []
  }
 ],
 "metadata": {
  "accelerator": "GPU",
  "colab": {
   "provenance": []
  },
  "gpuClass": "standard",
  "kernelspec": {
   "display_name": "Python 3 (ipykernel)",
   "language": "python",
   "name": "python3"
  },
  "language_info": {
   "codemirror_mode": {
    "name": "ipython",
    "version": 3
   },
   "file_extension": ".py",
   "mimetype": "text/x-python",
   "name": "python",
   "nbconvert_exporter": "python",
   "pygments_lexer": "ipython3",
   "version": "3.10.6"
  }
 },
 "nbformat": 4,
 "nbformat_minor": 1
}
